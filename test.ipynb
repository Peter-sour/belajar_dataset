{
 "cells": [
  {
   "cell_type": "code",
   "execution_count": 2,
   "id": "5d6c2c5e",
   "metadata": {},
   "outputs": [
    {
     "data": {
      "text/plain": [
       "Series([], dtype: int64)"
      ]
     },
     "execution_count": 2,
     "metadata": {},
     "output_type": "execute_result"
    }
   ],
   "source": [
    "import pandas as pd\n",
    "train = pd.read_csv(\"diabetes.csv\")\n",
    "missing_values = train.isnull().sum()\n",
    "missing_values[missing_values > 0]"
   ]
  },
  {
   "cell_type": "code",
   "execution_count": 4,
   "id": "97c537c0",
   "metadata": {},
   "outputs": [
    {
     "name": "stdout",
     "output_type": "stream",
     "text": [
      "Ukuran x_train: (160, 7)\n",
      "Ukuran x_test : (41, 7)\n",
      "Ukuran y_train: (160,)\n",
      "Ukuran y_test : (41,)\n"
     ]
    }
   ],
   "source": [
    "import pandas as pd\n",
    "from sklearn.model_selection import train_test_split\n",
    "\n",
    "# Baca dataset dari CSV\n",
    "data = pd.read_csv(\"diabetes.csv\")\n",
    "\n",
    "# Buang kolom ID (tidak dipakai)\n",
    "data = data.drop(columns=['PatientID'])\n",
    "\n",
    "# Tentukan fitur (X) dan target (y)\n",
    "X = data.drop(columns=['Outcome'])   # semua kolom kecuali target\n",
    "y = data['Outcome']                  # kolom target\n",
    "\n",
    "# Split dataset (80% train, 20% test)\n",
    "x_train, x_test, y_train, y_test = train_test_split(\n",
    "    X, y,\n",
    "    test_size=0.2,\n",
    "    random_state=1,\n",
    "    stratify=y   # karena klasifikasi (Outcome biasanya 0/1)\n",
    ")\n",
    "\n",
    "# Cek hasil\n",
    "print(\"Ukuran x_train:\", x_train.shape)\n",
    "print(\"Ukuran x_test :\", x_test.shape)\n",
    "print(\"Ukuran y_train:\", y_train.shape)\n",
    "print(\"Ukuran y_test :\", y_test.shape)\n"
   ]
  },
  {
   "cell_type": "code",
   "execution_count": null,
   "id": "5eaa8b0a",
   "metadata": {},
   "outputs": [],
   "source": [
    "import pandas as pd\n",
    "import seaborn as sns\n",
    "import matplotlib.pyplot as plt\n",
    "\n",
    "df = pd.read_csv(\"diabetes.csv\")\n",
    "numeric_features = df.select_dtypes(include=['int64','float64']).columns\n",
    "\n",
    "for feature in numeric_features:\n",
    "    plt.figure(figsize=(10, 6))\n",
    "    sns.boxplot(x=df[feature])\n",
    "    plt.title(f'Box Plot of {feature}')\n",
    "    plt.show()"
   ]
  },
  {
   "cell_type": "code",
   "execution_count": null,
   "id": "881007dd",
   "metadata": {},
   "outputs": [],
   "source": [
    "import pandas as pd\n",
    "import seaborn as sns\n",
    "import matplotlib.pyplot as plt\n",
    "from sklearn.preprocessing import StandardScaler\n",
    "\n",
    "# Contoh dataframe (ganti dengan data kamu)\n",
    "train = pd.read_csv(\"diabetes.csv\")\n",
    "\n",
    "# Pilih fitur numerik\n",
    "numeric_features = train.select_dtypes(include=['int64', 'float64']).columns\n",
    "\n",
    "# Standardisasi\n",
    "scaler = StandardScaler()\n",
    "train_scaled = train.copy()\n",
    "train_scaled[numeric_features] = scaler.fit_transform(train[numeric_features])\n",
    "\n",
    "# Histogram Sebelum & Sesudah Standardisasi\n",
    "plt.figure(figsize=(12, 5))\n",
    "\n",
    "# Sebelum\n",
    "plt.subplot(1, 2, 1)\n",
    "sns.histplot(train[numeric_features[3]], kde=True)\n",
    "plt.title(\"Histogram Sebelum Standardisasi\")\n",
    "\n",
    "# Sesudah\n",
    "plt.subplot(1, 2, 2)\n",
    "sns.histplot(train_scaled[numeric_features[3]], kde=True)\n",
    "plt.title(\"Histogram Sesudah Standardisasi\")\n",
    "\n",
    "plt.tight_layout()\n",
    "plt.show()\n"
   ]
  },
  {
   "cell_type": "code",
   "execution_count": null,
   "id": "cb1dac4b",
   "metadata": {},
   "outputs": [],
   "source": [
    "import pandas as pd\n",
    "df = pd.read_csv(\"diabetes.csv\")\n",
    "duplicates = df.duplicated()\n",
    "\n",
    "print(\"Baris duplikat:\")\n",
    "print(df[duplicates])"
   ]
  },
  {
   "cell_type": "code",
   "execution_count": null,
   "id": "7065c5ba",
   "metadata": {},
   "outputs": [],
   "source": [
    "import pandas as pd\n",
    "df = pd.read_csv(\"diabetes.csv\")\n",
    "duplicates = df.drop_duplicates()\n",
    "\n",
    "print(\"dataframe setelah menghapus duplikat:\")\n",
    "print(df)"
   ]
  },
  {
   "cell_type": "code",
   "execution_count": null,
   "id": "0e3720b5",
   "metadata": {},
   "outputs": [],
   "source": [
    "import pandas as pd\n",
    "df = pd.read_csv(\"diabetes.csv\")\n",
    "category_features = df.select_dtypes(include=['object']).columns\n",
    "df[category_features]"
   ]
  },
  {
   "cell_type": "code",
   "execution_count": null,
   "id": "8e22a82f",
   "metadata": {},
   "outputs": [],
   "source": [
    "import pandas as pd\n",
    "from sklearn.preprocessing import LabelEncoder\n",
    "\n",
    "df = pd.read_csv(\"diabetes.csv\")\n",
    "\n",
    "# Inisialisasi LabelEncoder\n",
    "label_encoder = LabelEncoder()\n",
    "df_lencoder = pd.DataFrame(df)\n",
    "\n",
    "for col in category_features:\n",
    "    df_lencoder[col] = label_encoder.fit_transform(df[col])\n",
    "\n",
    "# Menampilkan hasil\n",
    "df_lencoder"
   ]
  }
 ],
 "metadata": {
  "kernelspec": {
   "display_name": "myenv",
   "language": "python",
   "name": "python3"
  },
  "language_info": {
   "codemirror_mode": {
    "name": "ipython",
    "version": 3
   },
   "file_extension": ".py",
   "mimetype": "text/x-python",
   "name": "python",
   "nbconvert_exporter": "python",
   "pygments_lexer": "ipython3",
   "version": "3.12.6"
  }
 },
 "nbformat": 4,
 "nbformat_minor": 5
}
