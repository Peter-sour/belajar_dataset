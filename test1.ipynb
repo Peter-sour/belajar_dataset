{
 "cells": [
  {
   "cell_type": "code",
   "execution_count": 1,
   "id": "23ce3527",
   "metadata": {},
   "outputs": [
    {
     "data": {
      "text/html": [
       "<div>\n",
       "<style scoped>\n",
       "    .dataframe tbody tr th:only-of-type {\n",
       "        vertical-align: middle;\n",
       "    }\n",
       "\n",
       "    .dataframe tbody tr th {\n",
       "        vertical-align: top;\n",
       "    }\n",
       "\n",
       "    .dataframe thead th {\n",
       "        text-align: right;\n",
       "    }\n",
       "</style>\n",
       "<table border=\"1\" class=\"dataframe\">\n",
       "  <thead>\n",
       "    <tr style=\"text-align: right;\">\n",
       "      <th></th>\n",
       "      <th>Missing Values</th>\n",
       "      <th>Percentage</th>\n",
       "    </tr>\n",
       "  </thead>\n",
       "  <tbody>\n",
       "  </tbody>\n",
       "</table>\n",
       "</div>"
      ],
      "text/plain": [
       "Empty DataFrame\n",
       "Columns: [Missing Values, Percentage]\n",
       "Index: []"
      ]
     },
     "execution_count": 1,
     "metadata": {},
     "output_type": "execute_result"
    }
   ],
   "source": [
    "# Menghitung jumlah dan persentase missing values di setiap kolom\n",
    "import pandas as pd\n",
    "from sklearn.preprocessing import LabelEncoder\n",
    "df_lencoder = pd.read_csv('diabetes.csv')\n",
    "missing_values = df_lencoder.isnull().sum()\n",
    "missing_percentage = (missing_values / len(df_lencoder)) * 100\n",
    "\n",
    "missing_data = pd.DataFrame({\n",
    "    'Missing Values': missing_values,\n",
    "    'Percentage': missing_percentage\n",
    "}).sort_values(by='Missing Values', ascending=False)\n",
    "\n",
    "missing_data[missing_data['Missing Values'] > 0]  # Menampilkan kolom dengan missing values"
   ]
  },
  {
   "cell_type": "code",
   "execution_count": null,
   "id": "e134b78a",
   "metadata": {},
   "outputs": [],
   "source": [
    "import matplotlib.pyplot as plt\n",
    "# Menghitung jumlah variabel\n",
    "num_vars = df_lencoder.shape[1]\n",
    "\n",
    "# Menentukan jumlah baris dan kolom untuk grid subplot\n",
    "n_cols = 4  # Jumlah kolom yang diinginkan\n",
    "n_rows = -(-num_vars // n_cols)  # Ceiling division untuk menentukan jumlah baris\n",
    "\n",
    "# Membuat subplot\n",
    "fig, axes = plt.subplots(n_rows, n_cols, figsize=(20, n_rows * 4))\n",
    "\n",
    "# Flatten axes array untuk memudahkan iterasi jika diperlukan\n",
    "axes = axes.flatten()\n",
    "\n",
    "# Plot setiap variabel\n",
    "for i, column in enumerate(df_lencoder.columns):\n",
    "    df_lencoder[column].hist(ax=axes[i], bins=20, edgecolor='black')\n",
    "    axes[i].set_title(column)\n",
    "    axes[i].set_xlabel('Value')\n",
    "    axes[i].set_ylabel('Frequency')\n",
    "\n",
    "# Menghapus subplot yang tidak terpakai (jika ada)\n",
    "for j in range(i + 1, len(axes)):\n",
    "    fig.delaxes(axes[j])\n",
    "\n",
    "# Menyesuaikan layout agar lebih rapi\n",
    "plt.tight_layout()\n",
    "plt.show()"
   ]
  },
  {
   "cell_type": "code",
   "execution_count": null,
   "id": "ec8ae17f",
   "metadata": {},
   "outputs": [],
   "source": [
    "import matplotlib.pyplot as plt\n",
    "import seaborn as sns\n",
    "import pandas as pd\n",
    "from sklearn.preprocessing import LabelEncoder\n",
    "\n",
    "# --- Contoh inisialisasi dataset ---\n",
    "data = {\n",
    "    'OverallQual': [5, 7, 6, 8, 7, 7, 6],\n",
    "    'YearBuilt': [2000, 1995, 2010, 1980, 1975, 2005, 2015],\n",
    "    'LotArea': [8500, 9600, 11250, 9550, 14260, 14115, 10084],\n",
    "    'SaleType': ['WD', 'New', 'WD', 'COD', 'WD', 'New', 'WD'],\n",
    "    'SaleCondition': ['Normal', 'Abnorml', 'Normal', 'Partial', 'Normal', 'Normal', 'Abnorml']\n",
    "}\n",
    "df = pd.DataFrame(data)\n",
    "\n",
    "# --- Encode kolom kategorikal ---\n",
    "le = LabelEncoder()\n",
    "df_lencoder = df.copy()\n",
    "for col in df.select_dtypes(include=['object']).columns:\n",
    "    df_lencoder[col] = le.fit_transform(df[col])\n",
    "\n",
    "# --- Visualisasi distribusi data untuk beberapa kolom ---\n",
    "columns_to_plot = ['OverallQual', 'YearBuilt', 'LotArea', 'SaleType', 'SaleCondition']\n",
    "\n",
    "plt.figure(figsize=(15, 10))\n",
    "for i, column in enumerate(columns_to_plot, 1):\n",
    "    plt.subplot(2, 3, i)\n",
    "    sns.histplot(df_lencoder[column], kde=True, bins=30)\n",
    "    plt.title(f'Distribution of {column}')\n",
    "    plt.xlabel(column)\n",
    "    plt.ylabel(\"Frequency\")\n",
    "\n",
    "plt.tight_layout()\n",
    "plt.show()\n"
   ]
  }
 ],
 "metadata": {
  "kernelspec": {
   "display_name": "myenv",
   "language": "python",
   "name": "python3"
  },
  "language_info": {
   "codemirror_mode": {
    "name": "ipython",
    "version": 3
   },
   "file_extension": ".py",
   "mimetype": "text/x-python",
   "name": "python",
   "nbconvert_exporter": "python",
   "pygments_lexer": "ipython3",
   "version": "3.12.6"
  }
 },
 "nbformat": 4,
 "nbformat_minor": 5
}
