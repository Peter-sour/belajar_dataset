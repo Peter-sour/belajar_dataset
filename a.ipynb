{
 "cells": [
  {
   "cell_type": "code",
   "execution_count": 9,
   "id": "5d6c2c5e",
   "metadata": {},
   "outputs": [],
   "source": [
    "import pandas as pd\n",
    "train = pd.read_csv(\"diabetes.csv\")\n",
    "less = missing_values[missing_values < 1000].index\n",
    "over = missing_values[missing_values >= 1000].index\n",
    "# Contoh mengisi nilai yang hilang dengan median untuk kolom numerik\n",
    "numeric_features = train[less].select_dtypes(include=['number']).columns\n",
    "train[numeric_features] = train[numeric_features].fillna(train[numeric_features].median())"
   ]
  },
  {
   "cell_type": "code",
   "execution_count": null,
   "id": "5eaa8b0a",
   "metadata": {},
   "outputs": [],
   "source": []
  }
 ],
 "metadata": {
  "kernelspec": {
   "display_name": "myenv",
   "language": "python",
   "name": "python3"
  },
  "language_info": {
   "codemirror_mode": {
    "name": "ipython",
    "version": 3
   },
   "file_extension": ".py",
   "mimetype": "text/x-python",
   "name": "python",
   "nbconvert_exporter": "python",
   "pygments_lexer": "ipython3",
   "version": "3.12.6"
  }
 },
 "nbformat": 4,
 "nbformat_minor": 5
}
